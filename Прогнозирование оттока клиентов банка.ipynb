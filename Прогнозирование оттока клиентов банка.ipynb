{
 "cells": [
  {
   "cell_type": "markdown",
   "metadata": {},
   "source": [
    "Привет, меня зовут Люман Аблаев. Сегодня я проверю твой проект.\n",
    "<br> Дальнейшее общение будет происходить на \"ты\" если это не вызывает никаких проблем.\n",
    "<br> Желательно реагировать на каждый мой комментарий ('исправил', 'не понятно как исправить ошибку', ...)\n",
    "<br> Пожалуйста, не удаляй комментарии ревьюера, так как они повышают качество повторного ревью.\n",
    "\n",
    "Комментарии будут в <font color='green'>зеленой</font>, <font color='blue'>синей</font> или <font color='red'>красной</font> рамках:\n",
    "\n",
    "<div class=\"alert alert-block alert-success\">\n",
    "<b>Успех:</b> Если все сделано отлично\n",
    "</div>\n",
    "\n",
    "<div class=\"alert alert-block alert-info\">\n",
    "<b>Совет: </b> Если можно немного улучшить\n",
    "</div>\n",
    "\n",
    "<div class=\"alert alert-block alert-danger\">\n",
    "<b>Ошибка:</b> Если требуются исправления. Работа не может быть принята с красными комментариями.\n",
    "</div>\n",
    "\n",
    "### <font color='orange'>Общее впечатление</font>\n",
    "* Этот проект очень хорошо выполнен. Видно что приложено много усилий.\n",
    "* Понравилась, как ты работаешь с функциями.\n",
    "* Выводы логичны и понятны, благодаря структурированности их приятно читать!\n",
    "* Я оставил немного комментариев, с советами и неточностями, обрати на них внимаение\n",
    "* Жду с нетерпением твою дополненную работу. Не забудь поменять выводы ( если это потребуется ).\n"
   ]
  },
  {
   "cell_type": "markdown",
   "metadata": {},
   "source": [
    "### <font color='orange'>Общее впечатление[2]</font>\n",
    "* Спасибо за оперативые правки своего проекта!\n",
    "* Я рад, что ты углубился в тему балансировку данных глубже, чем это требуется в проекте, и изучил методы для борьбы дисбаланса так хорошо.\n",
    "* Все шаги твои сделаны верно, я принимаю твой проект и желаю удачи в дальнейшем!\n"
   ]
  },
  {
   "cell_type": "markdown",
   "metadata": {},
   "source": [
    "<div class=\"alert alert-warning\">\n",
    "  <h3>Комментарий студента</h3> Не смог установить бибилотеку <font color='green'>imblearn </font> в JupiterHub от Яндекс.Практикума - выдавлась ошибка о старой версии, обновить её тоже не смог. Пришлось скачать на компьютер Anacoda. \n",
    "  </div>"
   ]
  },
  {
   "cell_type": "markdown",
   "metadata": {},
   "source": [
    "# Отток клиентов"
   ]
  },
  {
   "cell_type": "markdown",
   "metadata": {},
   "source": [
    "Из «Бета-Банка» стали уходить клиенты. Каждый месяц. Немного, но заметно. Банковские маркетологи посчитали: сохранять текущих клиентов дешевле, чем привлекать новых.\n",
    "\n",
    "Нужно спрогнозировать, уйдёт клиент из банка в ближайшее время или нет. Вам предоставлены исторические данные о поведении клиентов и расторжении договоров с банком. \n",
    "\n",
    "Постройте модель с предельно большим значением *F1*-меры. Чтобы сдать проект успешно, нужно довести метрику до 0.59. Проверьте *F1*-меру на тестовой выборке самостоятельно.\n",
    "\n",
    "Дополнительно измеряйте *AUC-ROC*, сравнивайте её значение с *F1*-мерой.\n",
    "\n",
    "Источник данных: [https://www.kaggle.com/barelydedicated/bank-customer-churn-modeling](https://www.kaggle.com/barelydedicated/bank-customer-churn-modeling)\n",
    "\n",
    "#### Необходимо проделать следующие действия:\n",
    "1. Загрузить и подготовить данные.\n",
    "2. Исследовать баланс классов, обучить модель без учёта дисбаланса. Пояснить выводы.\n",
    "3. Улучшить качество модели, учитывая дисбаланс классов. Обучить разные модели, выбрать лучшую. Кратко описать выводы.\n",
    "4. Провести финальное тестирование, добиться необходимого значения F1."
   ]
  },
  {
   "cell_type": "markdown",
   "metadata": {},
   "source": [
    "<div class=\"alert alert-block alert-success\">\n",
    "<b>Успех:</b> Спасибо за описание проекта, и план работы!\n",
    "</div>"
   ]
  },
  {
   "cell_type": "markdown",
   "metadata": {},
   "source": [
    "# 1. Подготовка данных"
   ]
  },
  {
   "cell_type": "markdown",
   "metadata": {},
   "source": [
    "### 1.1 Чтение данных"
   ]
  },
  {
   "cell_type": "code",
   "execution_count": 152,
   "metadata": {},
   "outputs": [
    {
     "name": "stdout",
     "output_type": "stream",
     "text": [
      "Requirement already up-to-date: imbalanced-learn in c:\\users\\chugu\\anaconda3\\lib\\site-packages (0.7.0)\n",
      "Requirement already satisfied, skipping upgrade: scikit-learn>=0.23 in c:\\users\\chugu\\anaconda3\\lib\\site-packages (from imbalanced-learn) (0.23.1)\n",
      "Requirement already satisfied, skipping upgrade: joblib>=0.11 in c:\\users\\chugu\\anaconda3\\lib\\site-packages (from imbalanced-learn) (0.16.0)\n",
      "Requirement already satisfied, skipping upgrade: scipy>=0.19.1 in c:\\users\\chugu\\anaconda3\\lib\\site-packages (from imbalanced-learn) (1.5.0)\n",
      "Requirement already satisfied, skipping upgrade: numpy>=1.13.3 in c:\\users\\chugu\\anaconda3\\lib\\site-packages (from imbalanced-learn) (1.18.5)\n",
      "Requirement already satisfied, skipping upgrade: threadpoolctl>=2.0.0 in c:\\users\\chugu\\anaconda3\\lib\\site-packages (from scikit-learn>=0.23->imbalanced-learn) (2.1.0)\n"
     ]
    }
   ],
   "source": [
    "#Импорт библиотек\n",
    "import pandas as pd\n",
    "import numpy as np\n",
    "\n",
    "from sklearn.tree import DecisionTreeClassifier\n",
    "from sklearn.linear_model import LogisticRegression\n",
    "from sklearn.ensemble import RandomForestClassifier\n",
    "from sklearn.model_selection import train_test_split\n",
    "from sklearn.preprocessing import OrdinalEncoder\n",
    "from sklearn.preprocessing import StandardScaler\n",
    "\n",
    "from sklearn.metrics import mean_squared_error\n",
    "from sklearn.metrics import accuracy_score\n",
    "from sklearn.metrics import mean_absolute_error\n",
    "from sklearn.metrics import f1_score\n",
    "import scipy.stats as sps\n",
    "from sklearn.utils import shuffle\n",
    "from sklearn.metrics import roc_curve\n",
    "from sklearn.metrics import roc_auc_score\n",
    "from sklearn.metrics import classification_report\n",
    "\n",
    "!pip install -U imbalanced-learn\n",
    "from imblearn.over_sampling import SMOTE\n",
    "from imblearn.under_sampling import TomekLinks\n",
    "\n",
    "import seaborn as sns\n",
    "import matplotlib.pyplot as plt"
   ]
  },
  {
   "cell_type": "code",
   "execution_count": 153,
   "metadata": {},
   "outputs": [
    {
     "name": "stdout",
     "output_type": "stream",
     "text": [
      "<class 'pandas.core.frame.DataFrame'>\n",
      "RangeIndex: 10000 entries, 0 to 9999\n",
      "Data columns (total 14 columns):\n",
      " #   Column           Non-Null Count  Dtype  \n",
      "---  ------           --------------  -----  \n",
      " 0   RowNumber        10000 non-null  int64  \n",
      " 1   CustomerId       10000 non-null  int64  \n",
      " 2   Surname          10000 non-null  object \n",
      " 3   CreditScore      10000 non-null  int64  \n",
      " 4   Geography        10000 non-null  object \n",
      " 5   Gender           10000 non-null  object \n",
      " 6   Age              10000 non-null  int64  \n",
      " 7   Tenure           9091 non-null   float64\n",
      " 8   Balance          10000 non-null  float64\n",
      " 9   NumOfProducts    10000 non-null  int64  \n",
      " 10  HasCrCard        10000 non-null  int64  \n",
      " 11  IsActiveMember   10000 non-null  int64  \n",
      " 12  EstimatedSalary  10000 non-null  float64\n",
      " 13  Exited           10000 non-null  int64  \n",
      "dtypes: float64(3), int64(8), object(3)\n",
      "memory usage: 1.1+ MB\n",
      "None\n"
     ]
    },
    {
     "data": {
      "text/html": [
       "<div>\n",
       "<style scoped>\n",
       "    .dataframe tbody tr th:only-of-type {\n",
       "        vertical-align: middle;\n",
       "    }\n",
       "\n",
       "    .dataframe tbody tr th {\n",
       "        vertical-align: top;\n",
       "    }\n",
       "\n",
       "    .dataframe thead th {\n",
       "        text-align: right;\n",
       "    }\n",
       "</style>\n",
       "<table border=\"1\" class=\"dataframe\">\n",
       "  <thead>\n",
       "    <tr style=\"text-align: right;\">\n",
       "      <th></th>\n",
       "      <th>RowNumber</th>\n",
       "      <th>CustomerId</th>\n",
       "      <th>Surname</th>\n",
       "      <th>CreditScore</th>\n",
       "      <th>Geography</th>\n",
       "      <th>Gender</th>\n",
       "      <th>Age</th>\n",
       "      <th>Tenure</th>\n",
       "      <th>Balance</th>\n",
       "      <th>NumOfProducts</th>\n",
       "      <th>HasCrCard</th>\n",
       "      <th>IsActiveMember</th>\n",
       "      <th>EstimatedSalary</th>\n",
       "      <th>Exited</th>\n",
       "    </tr>\n",
       "  </thead>\n",
       "  <tbody>\n",
       "    <tr>\n",
       "      <th>0</th>\n",
       "      <td>1</td>\n",
       "      <td>15634602</td>\n",
       "      <td>Hargrave</td>\n",
       "      <td>619</td>\n",
       "      <td>France</td>\n",
       "      <td>Female</td>\n",
       "      <td>42</td>\n",
       "      <td>2.0</td>\n",
       "      <td>0.00</td>\n",
       "      <td>1</td>\n",
       "      <td>1</td>\n",
       "      <td>1</td>\n",
       "      <td>101348.88</td>\n",
       "      <td>1</td>\n",
       "    </tr>\n",
       "    <tr>\n",
       "      <th>1</th>\n",
       "      <td>2</td>\n",
       "      <td>15647311</td>\n",
       "      <td>Hill</td>\n",
       "      <td>608</td>\n",
       "      <td>Spain</td>\n",
       "      <td>Female</td>\n",
       "      <td>41</td>\n",
       "      <td>1.0</td>\n",
       "      <td>83807.86</td>\n",
       "      <td>1</td>\n",
       "      <td>0</td>\n",
       "      <td>1</td>\n",
       "      <td>112542.58</td>\n",
       "      <td>0</td>\n",
       "    </tr>\n",
       "    <tr>\n",
       "      <th>2</th>\n",
       "      <td>3</td>\n",
       "      <td>15619304</td>\n",
       "      <td>Onio</td>\n",
       "      <td>502</td>\n",
       "      <td>France</td>\n",
       "      <td>Female</td>\n",
       "      <td>42</td>\n",
       "      <td>8.0</td>\n",
       "      <td>159660.80</td>\n",
       "      <td>3</td>\n",
       "      <td>1</td>\n",
       "      <td>0</td>\n",
       "      <td>113931.57</td>\n",
       "      <td>1</td>\n",
       "    </tr>\n",
       "    <tr>\n",
       "      <th>3</th>\n",
       "      <td>4</td>\n",
       "      <td>15701354</td>\n",
       "      <td>Boni</td>\n",
       "      <td>699</td>\n",
       "      <td>France</td>\n",
       "      <td>Female</td>\n",
       "      <td>39</td>\n",
       "      <td>1.0</td>\n",
       "      <td>0.00</td>\n",
       "      <td>2</td>\n",
       "      <td>0</td>\n",
       "      <td>0</td>\n",
       "      <td>93826.63</td>\n",
       "      <td>0</td>\n",
       "    </tr>\n",
       "    <tr>\n",
       "      <th>4</th>\n",
       "      <td>5</td>\n",
       "      <td>15737888</td>\n",
       "      <td>Mitchell</td>\n",
       "      <td>850</td>\n",
       "      <td>Spain</td>\n",
       "      <td>Female</td>\n",
       "      <td>43</td>\n",
       "      <td>2.0</td>\n",
       "      <td>125510.82</td>\n",
       "      <td>1</td>\n",
       "      <td>1</td>\n",
       "      <td>1</td>\n",
       "      <td>79084.10</td>\n",
       "      <td>0</td>\n",
       "    </tr>\n",
       "    <tr>\n",
       "      <th>5</th>\n",
       "      <td>6</td>\n",
       "      <td>15574012</td>\n",
       "      <td>Chu</td>\n",
       "      <td>645</td>\n",
       "      <td>Spain</td>\n",
       "      <td>Male</td>\n",
       "      <td>44</td>\n",
       "      <td>8.0</td>\n",
       "      <td>113755.78</td>\n",
       "      <td>2</td>\n",
       "      <td>1</td>\n",
       "      <td>0</td>\n",
       "      <td>149756.71</td>\n",
       "      <td>1</td>\n",
       "    </tr>\n",
       "    <tr>\n",
       "      <th>6</th>\n",
       "      <td>7</td>\n",
       "      <td>15592531</td>\n",
       "      <td>Bartlett</td>\n",
       "      <td>822</td>\n",
       "      <td>France</td>\n",
       "      <td>Male</td>\n",
       "      <td>50</td>\n",
       "      <td>7.0</td>\n",
       "      <td>0.00</td>\n",
       "      <td>2</td>\n",
       "      <td>1</td>\n",
       "      <td>1</td>\n",
       "      <td>10062.80</td>\n",
       "      <td>0</td>\n",
       "    </tr>\n",
       "    <tr>\n",
       "      <th>7</th>\n",
       "      <td>8</td>\n",
       "      <td>15656148</td>\n",
       "      <td>Obinna</td>\n",
       "      <td>376</td>\n",
       "      <td>Germany</td>\n",
       "      <td>Female</td>\n",
       "      <td>29</td>\n",
       "      <td>4.0</td>\n",
       "      <td>115046.74</td>\n",
       "      <td>4</td>\n",
       "      <td>1</td>\n",
       "      <td>0</td>\n",
       "      <td>119346.88</td>\n",
       "      <td>1</td>\n",
       "    </tr>\n",
       "    <tr>\n",
       "      <th>8</th>\n",
       "      <td>9</td>\n",
       "      <td>15792365</td>\n",
       "      <td>He</td>\n",
       "      <td>501</td>\n",
       "      <td>France</td>\n",
       "      <td>Male</td>\n",
       "      <td>44</td>\n",
       "      <td>4.0</td>\n",
       "      <td>142051.07</td>\n",
       "      <td>2</td>\n",
       "      <td>0</td>\n",
       "      <td>1</td>\n",
       "      <td>74940.50</td>\n",
       "      <td>0</td>\n",
       "    </tr>\n",
       "    <tr>\n",
       "      <th>9</th>\n",
       "      <td>10</td>\n",
       "      <td>15592389</td>\n",
       "      <td>H?</td>\n",
       "      <td>684</td>\n",
       "      <td>France</td>\n",
       "      <td>Male</td>\n",
       "      <td>27</td>\n",
       "      <td>2.0</td>\n",
       "      <td>134603.88</td>\n",
       "      <td>1</td>\n",
       "      <td>1</td>\n",
       "      <td>1</td>\n",
       "      <td>71725.73</td>\n",
       "      <td>0</td>\n",
       "    </tr>\n",
       "  </tbody>\n",
       "</table>\n",
       "</div>"
      ],
      "text/plain": [
       "   RowNumber  CustomerId   Surname  CreditScore Geography  Gender  Age  \\\n",
       "0          1    15634602  Hargrave          619    France  Female   42   \n",
       "1          2    15647311      Hill          608     Spain  Female   41   \n",
       "2          3    15619304      Onio          502    France  Female   42   \n",
       "3          4    15701354      Boni          699    France  Female   39   \n",
       "4          5    15737888  Mitchell          850     Spain  Female   43   \n",
       "5          6    15574012       Chu          645     Spain    Male   44   \n",
       "6          7    15592531  Bartlett          822    France    Male   50   \n",
       "7          8    15656148    Obinna          376   Germany  Female   29   \n",
       "8          9    15792365        He          501    France    Male   44   \n",
       "9         10    15592389        H?          684    France    Male   27   \n",
       "\n",
       "   Tenure    Balance  NumOfProducts  HasCrCard  IsActiveMember  \\\n",
       "0     2.0       0.00              1          1               1   \n",
       "1     1.0   83807.86              1          0               1   \n",
       "2     8.0  159660.80              3          1               0   \n",
       "3     1.0       0.00              2          0               0   \n",
       "4     2.0  125510.82              1          1               1   \n",
       "5     8.0  113755.78              2          1               0   \n",
       "6     7.0       0.00              2          1               1   \n",
       "7     4.0  115046.74              4          1               0   \n",
       "8     4.0  142051.07              2          0               1   \n",
       "9     2.0  134603.88              1          1               1   \n",
       "\n",
       "   EstimatedSalary  Exited  \n",
       "0        101348.88       1  \n",
       "1        112542.58       0  \n",
       "2        113931.57       1  \n",
       "3         93826.63       0  \n",
       "4         79084.10       0  \n",
       "5        149756.71       1  \n",
       "6         10062.80       0  \n",
       "7        119346.88       1  \n",
       "8         74940.50       0  \n",
       "9         71725.73       0  "
      ]
     },
     "metadata": {},
     "output_type": "display_data"
    }
   ],
   "source": [
    "#Чтение и подготовка данных\n",
    "churn_data = pd.read_csv(\"/Users/chugu/Learning DS/Projects/Churn.csv\")\n",
    "print(churn_data.info())\n",
    "display(churn_data.head(10))"
   ]
  },
  {
   "cell_type": "markdown",
   "metadata": {},
   "source": [
    "### Вывод\n",
    "Данные содержат пропуски в столбце `Tenure`. Они, вероятно, обозначают отсутствие недвижимость у клиента, следовательно, пропуски необходимо заменить на нулевые значения.\n",
    "\n",
    "Некоторые признаки очевидно не влияют на признаки - такие как фамилия, `RowNumber` и `CustomerId` не влияют на уход клиента. Их можно не учитывать при отборе признаков. В дальнейшем, если признаков было бы больше, их отбор необходимо было бы доказать, использовав какой-либо из критериев - Фишера, Хи-квадрат, использовать матрицу корреляций и т.д. \n",
    "\n",
    "Страна и пол являются категориальными признаками. Их необходимо привести к численному виду. Все признаки сильно различаются в абсолютных значениях, их требуется масштабировать."
   ]
  },
  {
   "cell_type": "markdown",
   "metadata": {},
   "source": [
    "<div class=\"alert alert-block alert-success\">\n",
    "<b>Успех:</b> Загрузка данных и их  анализ сделано хорошо!\n",
    "</div>\n"
   ]
  },
  {
   "cell_type": "markdown",
   "metadata": {},
   "source": [
    "### 1.2 Непосредственная подготовка данных"
   ]
  },
  {
   "cell_type": "code",
   "execution_count": 154,
   "metadata": {},
   "outputs": [],
   "source": [
    "#Замена NaN на 0 в Tensure\n",
    "churn_data['Tenure'] = churn_data['Tenure'].fillna(0)\n",
    "\n",
    "#преобразование признаков методом порядкового кодирования\n",
    "encoder = OrdinalEncoder()\n",
    "churn_data[['Gender', 'Geography']] = encoder.fit_transform(churn_data[['Gender', 'Geography']])\n",
    "#display(churn_data.head(10))"
   ]
  },
  {
   "cell_type": "code",
   "execution_count": 155,
   "metadata": {},
   "outputs": [],
   "source": [
    "#отбор признаков\n",
    "features = churn_data.drop(['Exited', 'RowNumber', 'CustomerId', 'Surname'], axis=1)\n",
    "target = churn_data['Exited']\n",
    "\n",
    "def feat_targ_split(features, target):\n",
    "    features_train, features_valid_test, target_train, target_valid_test = train_test_split(\n",
    "        features, target, test_size=0.4, random_state=12345, stratify=churn_data['Exited']) \n",
    "\n",
    "    features_valid, features_test, target_valid, target_test = train_test_split(\n",
    "        features_valid_test, target_valid_test, test_size=0.5, random_state=12345)\n",
    "    return features_train, features_valid, features_test, target_train, target_valid, target_test\n",
    "\n",
    "features_train, features_valid, features_test, target_train, target_valid, target_test = feat_targ_split(features, target)\n"
   ]
  },
  {
   "cell_type": "code",
   "execution_count": 156,
   "metadata": {},
   "outputs": [],
   "source": [
    "#Масштабирование признаков\n",
    "def scale_feature(f_train, f_valid, f_test):\n",
    "    scaler = StandardScaler()\n",
    "    scaler.fit(f_train) \n",
    "    f_train_scaled = scaler.transform(f_train)\n",
    "    f_valid_scaled = scaler.transform(f_valid) \n",
    "    f_test_scaled = scaler.transform(f_test) \n",
    "    return f_train_scaled, f_valid_scaled, f_test_scaled\n",
    "\n",
    "features_train_scaled, features_valid_scaled, features_test_scaled = scale_feature(features_train, features_valid, features_test)"
   ]
  },
  {
   "cell_type": "markdown",
   "metadata": {},
   "source": [
    "\n",
    "<div class=\"alert alert-block alert-info\">\n",
    "<b>Совет: </b>Советую логически разбивать такие ячейки, чтобы код был читабельнее. <br> И собирать импорты в начале проекта. Так как человек запускающий твой проект целиком при отсутствии какого-либо пакета узнает это сразу, а не посреди выполнения.\n",
    "</div>"
   ]
  },
  {
   "cell_type": "markdown",
   "metadata": {},
   "source": [
    "<div class=\"alert alert-block alert-success\">\n",
    "<b>Успех:</b> Шаг сделан верно! <br> Разбиение выполнено корректно.<br> Scaler обучен только на трейне!\n",
    "</div>\n"
   ]
  },
  {
   "cell_type": "markdown",
   "metadata": {},
   "source": [
    "### Вывод\n",
    "Использовалось порядковое кодирование, т.к. названий локаций достаточно много, чтобы создавать отдельный столбец под каждую, используя One hot encoding.\n",
    "Признаки приведены к одному масштабу, чтобы разные признаки имели равную значимость."
   ]
  },
  {
   "cell_type": "markdown",
   "metadata": {},
   "source": [
    "# 2. Исследование задачи"
   ]
  },
  {
   "cell_type": "markdown",
   "metadata": {},
   "source": [
    "### 2.1 Обучение модели без учёта дисбаланса"
   ]
  },
  {
   "cell_type": "markdown",
   "metadata": {},
   "source": [
    "#### Модель дерево решений"
   ]
  },
  {
   "cell_type": "code",
   "execution_count": 157,
   "metadata": {},
   "outputs": [],
   "source": [
    "#Функция обучения модели дерева решений\n",
    "def decision_tree_model(f_train, t_train, f_valid, t_valid, depth_max):\n",
    "    best_decision_model = None\n",
    "    best_decision_result = 0\n",
    "    for depth in range(1, depth_max, 2):\n",
    "        churn_model = DecisionTreeClassifier(random_state=12345, max_depth=depth) \n",
    "        churn_model.fit(f_train, t_train) \n",
    "        churn_predicted_valid = churn_model.predict(f_valid) \n",
    "        result = f1_score(t_valid, churn_predicted_valid)\n",
    "        if result > best_decision_result:\n",
    "            best_decision_model = churn_model\n",
    "            best_decision_result = result\n",
    "    print('Таблица параметров')\n",
    "    print(classification_report(t_valid, best_decision_model.predict(f_valid), target_names=['Клиент остаётся', 'Уходит']))\n",
    "    return best_decision_model, best_decision_result"
   ]
  },
  {
   "cell_type": "code",
   "execution_count": 158,
   "metadata": {},
   "outputs": [
    {
     "name": "stdout",
     "output_type": "stream",
     "text": [
      "Таблица параметров\n",
      "                 precision    recall  f1-score   support\n",
      "\n",
      "Клиент остаётся       0.88      0.96      0.92      1609\n",
      "         Уходит       0.73      0.45      0.55       391\n",
      "\n",
      "       accuracy                           0.86      2000\n",
      "      macro avg       0.80      0.70      0.73      2000\n",
      "   weighted avg       0.85      0.86      0.85      2000\n",
      "\n",
      "F-1 мера дерева решений несбалансированных классов 0.5533\n"
     ]
    }
   ],
   "source": [
    "tree_model, tree_result = decision_tree_model(features_train_scaled, target_train, features_valid_scaled, target_valid, 51)\n",
    "print('F-1 мера дерева решений несбалансированных классов {:.4f}'.format(tree_result))"
   ]
  },
  {
   "cell_type": "markdown",
   "metadata": {},
   "source": [
    "#### Модель случайный лес"
   ]
  },
  {
   "cell_type": "code",
   "execution_count": 159,
   "metadata": {},
   "outputs": [],
   "source": [
    "#Функция обучения модели случайного леса\n",
    "def random_tree_model(f_train, t_train, f_valid, t_valid, depth_max):\n",
    "    best_model = None\n",
    "    best_result = 0\n",
    "    for est in range(10, depth_max, 5):\n",
    "        for depth in range (1, 15):\n",
    "            churn_model = RandomForestClassifier(random_state=12345, n_estimators=est, max_depth=depth) \n",
    "            churn_model.fit(f_train, t_train) \n",
    "            churn_predicted_valid = churn_model.predict(f_valid) \n",
    "            result = f1_score(t_valid, churn_predicted_valid)\n",
    "            if result > best_result:\n",
    "                best_model = churn_model \n",
    "                best_result = result\n",
    "    print('Таблица параметров')\n",
    "    print(classification_report(t_valid, best_model.predict(f_valid), target_names=['Клиент остаётся', 'Уходит']))    \n",
    "    return best_model, best_result                "
   ]
  },
  {
   "cell_type": "code",
   "execution_count": 160,
   "metadata": {},
   "outputs": [
    {
     "name": "stdout",
     "output_type": "stream",
     "text": [
      "Таблица параметров\n",
      "                 precision    recall  f1-score   support\n",
      "\n",
      "Клиент остаётся       0.88      0.97      0.92      1609\n",
      "         Уходит       0.79      0.45      0.57       391\n",
      "\n",
      "       accuracy                           0.87      2000\n",
      "      macro avg       0.83      0.71      0.75      2000\n",
      "   weighted avg       0.86      0.87      0.85      2000\n",
      "\n",
      "F-1 мера случайного леса несбалансированных классов 0.5710\n"
     ]
    }
   ],
   "source": [
    "random_model, random_result = random_tree_model(features_train_scaled, target_train, features_valid_scaled, target_valid, 51)\n",
    "print('F-1 мера случайного леса несбалансированных классов {:.4f}'.format(random_result))"
   ]
  },
  {
   "cell_type": "markdown",
   "metadata": {},
   "source": [
    "### Вывод\n",
    "Критерий слишком низок, чтобы принять какую-либо модель за рабочую - в обоих случаях не предсказывается уход клиента. \n",
    "Это может быть вызвано недостатком данных - несбалансированностью классов."
   ]
  },
  {
   "cell_type": "markdown",
   "metadata": {},
   "source": [
    "### 2.2 Анализ модели"
   ]
  },
  {
   "cell_type": "code",
   "execution_count": 161,
   "metadata": {},
   "outputs": [],
   "source": [
    "#Функция для оценки модели\n",
    "def roc_curve_plot(model, features_valid, target_valid):\n",
    "    probabilities_valid = model.predict_proba(features_valid)\n",
    "    probabilities_one_valid = probabilities_valid[:, 1]\n",
    "\n",
    "    fpr, tpr, thresholds = roc_curve(target_valid, probabilities_one_valid)\n",
    "    \n",
    "    #Поиск Area Under Curve ROC\n",
    "    auc_roc = roc_auc_score(target_valid, probabilities_one_valid)\n",
    "    \n",
    "    plt.figure(figsize=(10, 10))\n",
    "\n",
    "    plt.plot(fpr, tpr, label='Обученная модель')\n",
    "\n",
    "    # ROC-кривая случайной модели (выглядит как прямая)\n",
    "    plt.plot([0, 1], [0, 1], linestyle='--', color = 'crimson', label='Случайная модель')\n",
    "\n",
    "    plt.ylim([0.0, 1.05])\n",
    "    plt.xlim([0.0, 1.0])\n",
    "\n",
    "    #оси \"False Positive Rate\" и \"True Positive Rate\" \n",
    "    plt.xlabel('False Positive Rate')\n",
    "    plt.ylabel('True Positive Rate')\n",
    "\n",
    "    #\"ROC-кривая\" функцией plt.title() \n",
    "    plt.title('ROC-кривая')\n",
    "    \n",
    "    plt.text(0.405, 0.3, 'AUC=', color = 'black', fontsize = 40)\n",
    "    plt.text(0.605, 0.3, round(auc_roc, 3), color = 'black', fontsize = 40)\n",
    "    \n",
    "    plt.grid()\n",
    "    plt.legend()\n",
    "    plt.show()"
   ]
  },
  {
   "cell_type": "code",
   "execution_count": 162,
   "metadata": {},
   "outputs": [
    {
     "data": {
      "image/png": "[encoded data removed]",
      "text/plain": [
       "<Figure size 720x720 with 1 Axes>"
      ]
     },
     "metadata": {
      "needs_background": "light"
     },
     "output_type": "display_data"
    },
    {
     "data": {
      "image/png": "[encoded data removed]",
      "text/plain": [
       "<Figure size 720x720 with 1 Axes>"
      ]
     },
     "metadata": {
      "needs_background": "light"
     },
     "output_type": "display_data"
    }
   ],
   "source": [
    "#Построение ROC-кривой для моделей дерева решений и случайного леса\n",
    "roc_curve_plot(tree_model, features_valid_scaled, target_valid) \n",
    "roc_curve_plot(random_model, features_valid_scaled, target_valid) "
   ]
  },
  {
   "cell_type": "markdown",
   "metadata": {},
   "source": [
    "### Вывод\n",
    "Хоть кривая обученных моделей и лежит значительно выше случайной, этого все равно недостаточно. Необходимо проверить, какя картина будет при балансировке.\n",
    "Пока что модель случайного леса показывает результаты лучше."
   ]
  },
  {
   "cell_type": "markdown",
   "metadata": {},
   "source": [
    "<div class=\"alert alert-block alert-success\">\n",
    "<b>Успех:</b> Анализ выполнен верно, все нужные метрики посчитаны!\n",
    "</div>\n"
   ]
  },
  {
   "cell_type": "markdown",
   "metadata": {},
   "source": [
    "# 3. Борьба с дисбалансом"
   ]
  },
  {
   "cell_type": "markdown",
   "metadata": {},
   "source": [
    "### 3.1 Простой upsampling"
   ]
  },
  {
   "cell_type": "markdown",
   "metadata": {},
   "source": [
    "#### Подготовка признаков"
   ]
  },
  {
   "cell_type": "code",
   "execution_count": 163,
   "metadata": {},
   "outputs": [
    {
     "name": "stdout",
     "output_type": "stream",
     "text": [
      "(4778, 10)\n",
      "(1222, 10)\n",
      "(4778,)\n",
      "(1222,)\n"
     ]
    }
   ],
   "source": [
    "#Разбиение по классам\n",
    "features_zeros = features_train[target_train == 0]\n",
    "features_ones = features_train[target_train == 1]\n",
    "target_zeros = target_train[target_train == 0]\n",
    "target_ones = target_train[target_train == 1]\n",
    "\n",
    "print(features_zeros.shape)\n",
    "print(features_ones.shape)\n",
    "print(target_zeros.shape)\n",
    "print(target_ones.shape)"
   ]
  },
  {
   "cell_type": "code",
   "execution_count": 164,
   "metadata": {},
   "outputs": [
    {
     "name": "stdout",
     "output_type": "stream",
     "text": [
      "(9666, 10)\n",
      "(9666,)\n",
      "Коэффициент увеличения выборки  4\n"
     ]
    }
   ],
   "source": [
    "#Увеличение классов и их перетасовка\n",
    "repeat = round(len(features_zeros)/len(features_ones))\n",
    "features_train_upsampled = pd.concat([features_zeros] + [features_ones] * repeat)\n",
    "target_train_upsampled = pd.concat([target_zeros] + [target_ones] * repeat)\n",
    "features_train_upsampled, target_train_upsampled = shuffle(features_train_upsampled, target_train_upsampled, random_state=12345)\n",
    "print(features_train_upsampled.shape)\n",
    "print(target_train_upsampled.shape)\n",
    "print('Коэффициент увеличения выборки ', repeat)"
   ]
  },
  {
   "cell_type": "markdown",
   "metadata": {},
   "source": [
    "#### Проверка на дереве решений"
   ]
  },
  {
   "cell_type": "code",
   "execution_count": 165,
   "metadata": {},
   "outputs": [],
   "source": [
    "features_train_upsampled, features_valid_scaled, features_test_scaled = scale_feature(\n",
    "    features_train_upsampled, features_valid, features_test)"
   ]
  },
  {
   "cell_type": "code",
   "execution_count": 166,
   "metadata": {},
   "outputs": [
    {
     "name": "stdout",
     "output_type": "stream",
     "text": [
      "Таблица параметров\n",
      "                 precision    recall  f1-score   support\n",
      "\n",
      "Клиент остаётся       0.92      0.76      0.83      1609\n",
      "         Уходит       0.43      0.74      0.54       391\n",
      "\n",
      "       accuracy                           0.75      2000\n",
      "      macro avg       0.67      0.75      0.69      2000\n",
      "   weighted avg       0.83      0.75      0.78      2000\n",
      "\n",
      "F-1 мера дерева решений сбалансированных классов 0.5410\n"
     ]
    }
   ],
   "source": [
    "tree_model_balanced, tree_result_balanced = decision_tree_model(\n",
    "    features_train_upsampled, target_train_upsampled, features_valid_scaled, target_valid, 101)\n",
    "print('F-1 мера дерева решений сбалансированных классов {:.4f}'.format(tree_result_balanced))"
   ]
  },
  {
   "cell_type": "markdown",
   "metadata": {},
   "source": [
    "#### Проверка на случайном лесе"
   ]
  },
  {
   "cell_type": "code",
   "execution_count": 167,
   "metadata": {},
   "outputs": [
    {
     "name": "stdout",
     "output_type": "stream",
     "text": [
      "Таблица параметров\n",
      "                 precision    recall  f1-score   support\n",
      "\n",
      "Клиент остаётся       0.93      0.84      0.88      1609\n",
      "         Уходит       0.52      0.74      0.61       391\n",
      "\n",
      "       accuracy                           0.82      2000\n",
      "      macro avg       0.73      0.79      0.75      2000\n",
      "   weighted avg       0.85      0.82      0.83      2000\n",
      "\n",
      "F-1 мера случайного леса сбалансированных классов 0.6115\n"
     ]
    }
   ],
   "source": [
    "random_model_balanced, random_result_balanced = random_tree_model(\n",
    "    features_train_upsampled, target_train_upsampled, features_valid_scaled, target_valid, 51)\n",
    "print('F-1 мера случайного леса сбалансированных классов {:.4f}'.format(random_result_balanced))"
   ]
  },
  {
   "cell_type": "markdown",
   "metadata": {},
   "source": [
    "#### Итог\n",
    "Качество моделей улучшилось, но все равно низко. Необходимо проверить более совершенные виды балансировки выборки."
   ]
  },
  {
   "cell_type": "markdown",
   "metadata": {},
   "source": [
    "### 3.2 SMOTE sampling"
   ]
  },
  {
   "cell_type": "markdown",
   "metadata": {},
   "source": [
    "#### Cоздание близкорасположенных элементов"
   ]
  },
  {
   "cell_type": "code",
   "execution_count": 168,
   "metadata": {},
   "outputs": [],
   "source": [
    "features_train, features_valid, features_test, target_train, target_valid, target_test = feat_targ_split(features, target)\n",
    "\n",
    "features_train_scaled, features_valid_scaled, features_test_scaled = scale_feature(features_train, features_valid, features_test)"
   ]
  },
  {
   "cell_type": "code",
   "execution_count": 169,
   "metadata": {},
   "outputs": [],
   "source": [
    "sm = SMOTE(sampling_strategy='minority', random_state=12345, k_neighbors=4) #увеличение кол-ва только недостающих признаков\n",
    "sm_train_scaled, sm_target_train = sm.fit_sample(features_train_scaled, target_train)"
   ]
  },
  {
   "cell_type": "markdown",
   "metadata": {},
   "source": [
    "#### Проверка на дереве решений"
   ]
  },
  {
   "cell_type": "code",
   "execution_count": 170,
   "metadata": {},
   "outputs": [
    {
     "name": "stdout",
     "output_type": "stream",
     "text": [
      "Таблица параметров\n",
      "                 precision    recall  f1-score   support\n",
      "\n",
      "Клиент остаётся       0.90      0.85      0.88      1609\n",
      "         Уходит       0.50      0.63      0.56       391\n",
      "\n",
      "       accuracy                           0.81      2000\n",
      "      macro avg       0.70      0.74      0.72      2000\n",
      "   weighted avg       0.83      0.81      0.81      2000\n",
      "\n",
      "F-1 мера дерева решений используя SMOTE 0.5587\n"
     ]
    }
   ],
   "source": [
    "sm_tree_model, sm_tree_result = decision_tree_model(\n",
    "    sm_train_scaled, sm_target_train, features_valid_scaled, target_valid, 101)\n",
    "print('F-1 мера дерева решений используя SMOTE {:.4f}'.format(sm_tree_result))"
   ]
  },
  {
   "cell_type": "markdown",
   "metadata": {},
   "source": [
    "#### Проверка на случайном лесе"
   ]
  },
  {
   "cell_type": "code",
   "execution_count": 171,
   "metadata": {},
   "outputs": [
    {
     "name": "stdout",
     "output_type": "stream",
     "text": [
      "Таблица параметров\n",
      "                 precision    recall  f1-score   support\n",
      "\n",
      "Клиент остаётся       0.91      0.89      0.90      1609\n",
      "         Уходит       0.59      0.62      0.60       391\n",
      "\n",
      "       accuracy                           0.84      2000\n",
      "      macro avg       0.75      0.76      0.75      2000\n",
      "   weighted avg       0.84      0.84      0.84      2000\n",
      "\n",
      "F-1 мера случайного леса используя SMOTE 0.6030\n"
     ]
    }
   ],
   "source": [
    "sm_random_model, sm_random_result = random_tree_model(\n",
    "    sm_train_scaled, sm_target_train, features_valid_scaled, target_valid, 51)\n",
    "print('F-1 мера случайного леса используя SMOTE {:.4f}'.format(sm_random_result))"
   ]
  },
  {
   "cell_type": "markdown",
   "metadata": {},
   "source": [
    "#### Итог \n",
    "Используя алгоритм SMOTE, было получено удовлетворительное качество модели случайного леса. Далее будет использован схожий со SMOTE алгоритм - TomekLinks. "
   ]
  },
  {
   "cell_type": "markdown",
   "metadata": {},
   "source": [
    "### 3.3 TomekLinks"
   ]
  },
  {
   "cell_type": "code",
   "execution_count": 172,
   "metadata": {},
   "outputs": [],
   "source": [
    "tl = TomekLinks(sampling_strategy='majority') \n",
    "tl_train_scaled, tl_target_train = tl.fit_sample(features_train_scaled, target_train)"
   ]
  },
  {
   "cell_type": "markdown",
   "metadata": {},
   "source": [
    "#### Проверка на дереве решений"
   ]
  },
  {
   "cell_type": "code",
   "execution_count": 173,
   "metadata": {},
   "outputs": [
    {
     "name": "stdout",
     "output_type": "stream",
     "text": [
      "Таблица параметров\n",
      "                 precision    recall  f1-score   support\n",
      "\n",
      "Клиент остаётся       0.88      0.92      0.90      1609\n",
      "         Уходит       0.61      0.49      0.54       391\n",
      "\n",
      "       accuracy                           0.84      2000\n",
      "      macro avg       0.75      0.71      0.72      2000\n",
      "   weighted avg       0.83      0.84      0.83      2000\n",
      "\n",
      "F-1 мера дерева решений используя SMOTE 0.5447\n"
     ]
    }
   ],
   "source": [
    "tl_tree_model, tl_tree_result = decision_tree_model(\n",
    "    tl_train_scaled, tl_target_train, features_valid_scaled, target_valid, 101)\n",
    "print('F-1 мера дерева решений используя SMOTE {:.4f}'.format(tl_tree_result))"
   ]
  },
  {
   "cell_type": "markdown",
   "metadata": {},
   "source": [
    "#### Проверка на случайном лесе"
   ]
  },
  {
   "cell_type": "code",
   "execution_count": 174,
   "metadata": {},
   "outputs": [
    {
     "name": "stdout",
     "output_type": "stream",
     "text": [
      "Таблица параметров\n",
      "                 precision    recall  f1-score   support\n",
      "\n",
      "Клиент остаётся       0.89      0.96      0.92      1609\n",
      "         Уходит       0.74      0.49      0.59       391\n",
      "\n",
      "       accuracy                           0.87      2000\n",
      "      macro avg       0.81      0.72      0.76      2000\n",
      "   weighted avg       0.86      0.87      0.86      2000\n",
      "\n",
      "F-1 мера случайного леса используя SMOTE 0.5908\n"
     ]
    }
   ],
   "source": [
    "tl_random_model, tl_random_result = random_tree_model(\n",
    "    tl_train_scaled, tl_target_train, features_valid_scaled, target_valid, 51)\n",
    "print('F-1 мера случайного леса используя SMOTE {:.4f}'.format(tl_random_result))"
   ]
  },
  {
   "cell_type": "markdown",
   "metadata": {},
   "source": [
    "#### Итог\n",
    "Результаты получились лучше, чем в обычном сэмплинге, но хуже, чем при алгоритме SMOTE. Хотя модель случайного леса получилась удовлетворительной. \n",
    "\n",
    "Возможно это связано с тем, что SMOTE создает похожие элементы, а TomekLinks уменьшает количество наблюдений, что в условиях малого количества данных ухудшает обучение."
   ]
  },
  {
   "cell_type": "markdown",
   "metadata": {},
   "source": [
    "<div class=\"alert alert-block alert-danger\">\n",
    "<b>Ошибка:</b> Попробуй пожалуйста применить  другие практики для борьбы с дисбалансом. И посчитать все необходимые метрики на валидации. Также хорошо было бы попробовать и другие модели.\n",
    "</div>"
   ]
  },
  {
   "cell_type": "markdown",
   "metadata": {},
   "source": [
    "### Вывод\n",
    "Выборки сбалансированы, осталось протестировать на модели. Дорогой ревьюер, подскажи, пожалуйста, как в рабочих задачах сбалансировывают выборки? Я их привел к балансу \"на глаз\", может, есть какие-то автоматизированные способы?"
   ]
  },
  {
   "cell_type": "markdown",
   "metadata": {},
   "source": [
    "<div class=\"alert alert-block alert-info\">\n",
    "<b>Совет: </b> Обычно балансируют данные подбором нужных параметров для моделей и параметров для методов для борьбы с дисбалансом, используя валидацию. Найдя оптимальные решения, переходят к следующему этапу - тестированию.\n",
    "<br>\n",
    "    \n",
    "В реальных задача часто применяют алгоритм  SMOTE, о котором советую почитать. Отличается от upsampling-а тем, что вместо дублирования данных, происходит создание их наиболее похожими на реальные, но не повторяя их. \n",
    "</div>"
   ]
  },
  {
   "cell_type": "markdown",
   "metadata": {},
   "source": [
    "### Вывод 2\n",
    "Для данной задачи самый подходящий вид сэмплинга - SMOTE. Его применение для модели случайного леса показало наилучший результат в задаче классификации. Именно эта модель будет проверена на тестовой выборке."
   ]
  },
  {
   "cell_type": "markdown",
   "metadata": {},
   "source": [
    "<div class=\"alert alert-block alert-success\">\n",
    "<b>Успех[2]:</b> Отлично.\n",
    "</div>\n"
   ]
  },
  {
   "cell_type": "markdown",
   "metadata": {},
   "source": [
    "# 4. Тестирование модели"
   ]
  },
  {
   "cell_type": "code",
   "execution_count": 175,
   "metadata": {},
   "outputs": [
    {
     "name": "stdout",
     "output_type": "stream",
     "text": [
      "F-1 мера случайного леса используя SMOTE, тестовая выборка: 0.6199\n"
     ]
    }
   ],
   "source": [
    "sm_predicted_test = sm_random_model.predict(features_test_scaled) \n",
    "sm_test_result = f1_score(target_test, sm_predicted_test)\n",
    "print('F-1 мера случайного леса используя SMOTE, тестовая выборка: {:.4f}'.format(sm_test_result))"
   ]
  },
  {
   "cell_type": "markdown",
   "metadata": {},
   "source": [
    "F-мера и Accuracy новой модели получились удовлетворительными. Если бы требование по F-мере не выполнялось, следовало бы Изучить подробно признаки, отчистить их от выбросов. Внимательно их отобрать, использовав критерий Фишера или хи-критерий."
   ]
  },
  {
   "cell_type": "code",
   "execution_count": 176,
   "metadata": {},
   "outputs": [
    {
     "data": {
      "image/png": "[encoded data removed]",
      "text/plain": [
       "<Figure size 720x720 with 1 Axes>"
      ]
     },
     "metadata": {
      "needs_background": "light"
     },
     "output_type": "display_data"
    }
   ],
   "source": [
    "roc_curve_plot(sm_random_model, features_valid_scaled, target_valid) "
   ]
  },
  {
   "cell_type": "markdown",
   "metadata": {},
   "source": [
    "### Вывод\n",
    "Модель имеет хороший график AUC-ROC, что её характеризует как качественную. Балансировка классов однозначно пошла на пользу модели. Однако модель имеет склонность к переобучению."
   ]
  },
  {
   "cell_type": "markdown",
   "metadata": {},
   "source": [
    "<div class=\"alert alert-block alert-success\">\n",
    "<b>Успех:</b> Итоговое тестирование выполнено верно! Ты получил хорошее качество на тесте! Твои выводы приятно читать!\n",
    "</div>\n"
   ]
  },
  {
   "cell_type": "markdown",
   "metadata": {},
   "source": [
    "<div class=\"alert alert-block alert-info\">\n",
    "<b>Совет: </b> Хорошо бы вынести все полученные оценки метрик: для всех моделей и различных методов для борьбы с дисбалансом.\n",
    "</div>"
   ]
  },
  {
   "cell_type": "markdown",
   "metadata": {},
   "source": [
    "## 5.2 Вывод\n",
    "Параллельно происходило обучение модели дерева решений и модели случайного леса. Модель, имевашая несбалансированные классы, показала плохой результат, F-мера равнялась 0.52, что показало неспособность модели различать ответы. \n",
    "\n",
    "При балансировке классом увеличением выборки положительных ответов, качество модели улучшилось, хотя и не было превысходным. Для обоих моделей было проведено масштабирование признаков. Используя балансировку алгоритмом SMOTE и TomekLinks было повышено качество модели. Для данной задачи более подошёл первый алгоритм.\n",
    "\n"
   ]
  },
  {
   "cell_type": "markdown",
   "metadata": {},
   "source": [
    "<div class=\"alert alert-block alert-success\">\n",
    "<b>Успех[2]:</b> С выводами согласен.\n",
    "</div>\n"
   ]
  },
  {
   "cell_type": "markdown",
   "metadata": {},
   "source": [
    "# Чек-лист готовности проекта"
   ]
  },
  {
   "cell_type": "markdown",
   "metadata": {},
   "source": [
    "Поставьте 'x' в выполненных пунктах. Далее нажмите Shift+Enter."
   ]
  },
  {
   "cell_type": "markdown",
   "metadata": {},
   "source": [
    "- [x]  Jupyter Notebook открыт\n",
    "- [x]  Весь код выполняется без ошибок\n",
    "- [x]  Ячейки с кодом расположены в порядке исполнения\n",
    "- [x]  Выполнен шаг 1: данные подготовлены\n",
    "- [x]  Выполнен шаг 2: задача исследована\n",
    "    - [x]  Исследован баланс классов\n",
    "    - [x]  Изучены модели без учёта дисбаланса\n",
    "    - [x]  Написаны выводы по результатам исследования\n",
    "- [x]  Выполнен шаг 3: учтён дисбаланс\n",
    "    - [x]  Применено несколько способов борьбы с дисбалансом\n",
    "    - [x]  Написаны выводы по результатам исследования\n",
    "- [x]  Выполнен шаг 4: проведено тестирование\n",
    "- [x]  Удалось достичь *F1*-меры не менее 0.59\n",
    "- [x]  Исследована метрика *AUC-ROC*"
   ]
  },
  {
   "cell_type": "code",
   "execution_count": null,
   "metadata": {},
   "outputs": [],
   "source": []
  }
 ],
 "metadata": {
  "kernelspec": {
   "display_name": "Python 3",
   "language": "python",
   "name": "python3"
  },
  "language_info": {
   "codemirror_mode": {
    "name": "ipython",
    "version": 3
   },
   "file_extension": ".py",
   "mimetype": "text/x-python",
   "name": "python",
   "nbconvert_exporter": "python",
   "pygments_lexer": "ipython3",
   "version": "3.7.6"
  }
 },
 "nbformat": 4,
 "nbformat_minor": 2
}
